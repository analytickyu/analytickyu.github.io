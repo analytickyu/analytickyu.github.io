{
  "nbformat": 4,
  "nbformat_minor": 0,
  "metadata": {
    "colab": {
      "private_outputs": true,
      "provenance": [],
      "collapsed_sections": [
        "fm0uEkZIiGer",
        "j1YUZEJw_0wL",
        "36_V6Xsn3qtl",
        "J5niieyODl_u"
      ],
      "mount_file_id": "1e3r9i0w7wS3uzEioxBvuKqrtCK89sG9u",
      "authorship_tag": "ABX9TyN3WMy7yroLC3lpu0rXWCFk",
      "include_colab_link": true
    },
    "kernelspec": {
      "name": "python3",
      "display_name": "Python 3"
    },
    "language_info": {
      "name": "python"
    }
  },
  "cells": [
    {
      "cell_type": "markdown",
      "metadata": {
        "id": "view-in-github",
        "colab_type": "text"
      },
      "source": [
        "<a href=\"https://colab.research.google.com/github/analytickyu/analytickyu.github.io/blob/main/Crawling_%EA%B2%BD%EC%9F%813%EC%82%AC.ipynb\" target=\"_parent\"><img src=\"https://colab.research.google.com/assets/colab-badge.svg\" alt=\"Open In Colab\"/></a>"
      ]
    },
    {
      "cell_type": "code",
      "execution_count": null,
      "metadata": {
        "id": "6sQtgfs0mfTb"
      },
      "outputs": [],
      "source": [
        "# 처음만 실행\n",
        "!pip install selenium\n",
        "!apt-get update\n",
        "!apt install chromium-chromedriver\n",
        "!cp /usr/lib/chromium-browser/chromedriver /usr/bin"
      ]
    },
    {
      "cell_type": "code",
      "source": [
        "# 드라이브 마운트\n",
        "from google.colab import drive\n",
        "drive.mount('/content/drive')"
      ],
      "metadata": {
        "id": "NpZt0VvU4AY8"
      },
      "execution_count": null,
      "outputs": []
    },
    {
      "cell_type": "code",
      "source": [
        "# 크롤링해서 파일 다운 받을 경로\n",
        "crawling_PATH = '/content/drive/MyDrive/Crawling'"
      ],
      "metadata": {
        "id": "0ir98-xq9tDn"
      },
      "execution_count": null,
      "outputs": []
    },
    {
      "cell_type": "code",
      "source": [
        "# 패키지 import\n",
        "from selenium import webdriver\n",
        "from selenium.webdriver.common.by import By\n",
        "\n",
        "import os\n",
        "import time\n",
        "from datetime import datetime\n",
        "\n",
        "from selenium.webdriver.common.keys import Keys\n",
        "\n",
        "from selenium.webdriver.support.ui import WebDriverWait\n",
        "from selenium.webdriver.support import expected_conditions as EC\n",
        "from selenium.common.exceptions import TimeoutException\n",
        "\n",
        "import shutil"
      ],
      "metadata": {
        "id": "QHCSB_gonNva"
      },
      "execution_count": null,
      "outputs": []
    },
    {
      "cell_type": "code",
      "source": [
        "# 폴더 경로\n",
        "\n",
        "# 현재 작업 위치\n",
        "print(\"현재 위치 : \" + os.getcwd())\n",
        "\n",
        "# 작업 위치 이동\n",
        "os.chdir(crawling_PATH)\n",
        "# 작업 위치 이동 확인\n",
        "print(\"현재 위치 : \" + os.getcwd())"
      ],
      "metadata": {
        "id": "v7kJf-q0BsKn"
      },
      "execution_count": null,
      "outputs": []
    },
    {
      "cell_type": "code",
      "source": [
        "#Colab에선 웹브라우저 창이 뜨지 않으므로 별도 설정한다.\n",
        " \n",
        "options = webdriver.ChromeOptions()\n",
        "options.add_argument('--headless')        # Head-less 설정\n",
        "options.add_argument('--no-sandbox')\n",
        "options.add_argument('--disable-dev-shm-usage')\n"
      ],
      "metadata": {
        "id": "sWXsJIaBcgZh"
      },
      "execution_count": null,
      "outputs": []
    },
    {
      "cell_type": "code",
      "source": [
        "insu_dict = {\n",
        "             '한화생명':'https://www.hanwhalife.com/main/disclosure/goods/disclosurenotice/DF_GDDN000_P10000.do?MENU_ID1=DF_GDGL000',  #개발자도구 안 먹힘\n",
        "             #'ABL생명':'https://abllife.co.kr/st/pban/prdtPban/whlPrdt/whlPrdt1/whlPrdt11?page=index',\n",
        "             '삼성생명':'https://www.samsungfire.com/vh/page/VH.REIF0011.do',  \n",
        "             '흥국생명':'https://www.heungkuklife.co.kr/front/public/saleProduct.do?searchFlgSale=Y',\n",
        "             '교보생명':'https://www.kyobo.co.kr/webdocs/view.jsp?screenId=SPAPAOIM002T01&isutil=yes&menuId=MN0001642&menuId=MN0001642&biztype=util_gs',\n",
        "             '신한라이프':'https://www.shinhanlife.co.kr/hp/cdhi0030.do',\n",
        "             'KDB생명':'https://www.kdblife.co.kr/ajax.do?scrId=HDLMA002M02P',\n",
        "             #'미래에셋생명':'https://life.miraeasset.com/micro/disclosure/product/PC-HO-080301-000000.do',\n",
        "             '동양생명':'https://www.myangel.co.kr/paging/WE_AC_WEPAAP020100L',\n",
        "             #'메트라이프':'https://brand.metlife.co.kr/pn/mcvrgProd/retrieveMcvrgProdMain.do',\n",
        "             #'처브라이프':'https://www.chubblife.co.kr/front/official/sale/listSale.do',\n",
        "             #'DGB생명':'https://www.dgbfnlife.com/BA/BA_A020.do',\n",
        "             #'KB생명':'https://www.kblife.co.kr/customer-common/productList.do',\n",
        "             #'라이나생명':'https://www.lina.co.kr/disclosure/product_list.htm?productState=01&productKind=01',\n",
        "             #'AIA생명':'https://mypage.aia.co.kr/AIAHomepage/disclosure/our-products/selling/individual.do', \n",
        "             #'푸르덴셜생명':'https://www.prudential.co.kr/disclosure/product-disclosure.aspx?tab=currently-selling',\n",
        "             #'하나생명':'https://www.hanalife.co.kr/anm/product/allProduct.do?status=on',\n",
        "             #'푸본현대생명':'https://www.fubonhyundai.com/#CUSI150102010101',\n",
        "             #'BNP카디프생명':'https://www.cardif.co.kr/disclosure/papag101.do',\n",
        "             #'IBK연금':'https://www.ibki.co.kr/process/HP_PBANO_PDT_SP_INDV',\n",
        "             '농협생명':'https://www.nhlife.co.kr/ho/on/HOON0004M00.nhl',\n",
        "             \n",
        "            #  '메리츠화재':'https://www.meritzfire.com/disclosure/product-announcement/product-list.do#!/',\n",
        "            #  '한화손보':'https://www.hwgeneralins.com/notice/ir/product-ing01.do',\n",
        "            #  '롯데손보': 'https://www.lotteins.co.kr/web/C/D/H/cdh190.jsp',\n",
        "            #  'MG손보':'https://www.mggeneralins.com/PB031210DM.scp?menuId=MN0803006',\n",
        "            #  '흥국화재':'https://www.heungkukfire.co.kr/FRW/announce/insGoodsGongsiSale.do',\n",
        "            #  '삼성화재':'https://www.samsungfire.com/vh/page/VH.REIF0011.do',\n",
        "            #  '현대해상':'https://www.hi.co.kr/serviceAction.do?menuId=100932',\n",
        "            #  'KB손보':'https://www.kbinsure.co.kr/CG802030001.ec',\n",
        "            #  'DB손보':'https://www.idbins.com/FWMAIV1534.do',\n",
        "            #  '서울보증보험':'https://www.sgic.co.kr/chp/iutf/hp/insurance/CHPSGIC203VM1.mvc',\n",
        "            #  'AXA손보':'https://www.axa.co.kr/AsianPlatformInternet/html/axacms/common/intro/disclosure/insurance/index.html#CatIDsb13_73642',  # 판매중 클릭해야함\n",
        "            #  'AIG손보':'https://www.aig.co.kr/wo/dpwot001.html?menuId=MS702',\n",
        "            #  '에이스손보':'https://ec.aceinsurance.co.kr/jsp/acelimited/notice/productNoticeV2.jsp?status=Y',\n",
        "            #  '하나손보':'https://www.educar.co.kr/w/disclosure/product/saleProduct',\n",
        "            #  '신한EZ손보':'https://www.shinhanez.co.kr/html/company/trade_descriptions02.jsp',\n",
        "            #  '미쓰이스미토모화재보험':'https://www.ms-ins.co.kr/kor/template/0304_01.asp',\n",
        "            #  '농협손보':'https://www.nhfire.co.kr/announce/productAnnounce/retrieveInsuranceProductsAnnounce.nhfire'\n",
        "             }"
      ],
      "metadata": {
        "id": "XZHa1bPP6-CV"
      },
      "execution_count": null,
      "outputs": []
    },
    {
      "cell_type": "code",
      "source": [
        "list(insu_dict.keys())  # 이렇게 리스트로 받아서 [0],[1] 등으로 key 값 반환받아서 나중에 url 넣으면 됨"
      ],
      "metadata": {
        "id": "LV-947mV7Q_O"
      },
      "execution_count": null,
      "outputs": []
    },
    {
      "cell_type": "code",
      "source": [
        "# # 폴더생성\n",
        "# for i in list(insu_dict.keys()):\n",
        "#     os.mkdir(i)"
      ],
      "metadata": {
        "id": "bI4646ke_U-k"
      },
      "execution_count": null,
      "outputs": []
    },
    {
      "cell_type": "code",
      "source": [
        "# 폴더 생성 (필요시 생성하면 됨) (굳이 이거로 생성 안해도 됨)\n",
        "\n",
        "#os.mkdir(\"흥국화재\")  \n",
        "#os.mkdir(\"현대해상\")"
      ],
      "metadata": {
        "id": "Vo-_asxe69zy"
      },
      "execution_count": null,
      "outputs": []
    },
    {
      "cell_type": "code",
      "source": [
        "list(insu_dict.keys())[2]"
      ],
      "metadata": {
        "id": "e7RHYCgQ4YOk"
      },
      "execution_count": null,
      "outputs": []
    },
    {
      "cell_type": "markdown",
      "source": [
        "# 흥국생명"
      ],
      "metadata": {
        "id": "fm0uEkZIiGer"
      }
    },
    {
      "cell_type": "code",
      "source": [
        "COMPANY_INDEX = 2  # 회사 바뀔 때 마다 바꿔주기"
      ],
      "metadata": {
        "id": "8kbuFwkOiGes"
      },
      "execution_count": null,
      "outputs": []
    },
    {
      "cell_type": "code",
      "source": [
        "# 다운 폴더 경로 변경\n",
        "options.add_experimental_option('prefs', {\n",
        "        'download.default_directory': crawling_PATH+'/'+list(insu_dict.keys())[COMPANY_INDEX],   # 회사 바뀌면 경로도 바꿔서 다운받기\n",
        "        'download.prompt_for_download': False,\n",
        "    })\n",
        "driver = webdriver.Chrome('chromedriver', options=options)"
      ],
      "metadata": {
        "id": "Kw8dlRtuiGet"
      },
      "execution_count": null,
      "outputs": []
    },
    {
      "cell_type": "code",
      "source": [
        "list(insu_dict.values())[COMPANY_INDEX]"
      ],
      "metadata": {
        "id": "rPD-Cw1miGet"
      },
      "execution_count": null,
      "outputs": []
    },
    {
      "cell_type": "code",
      "source": [
        "#해당 url로 이동\n",
        "url = list(insu_dict.values())[COMPANY_INDEX]  # 흥국생명 url\n",
        "driver.get(url)"
      ],
      "metadata": {
        "id": "ENfHTQaYiGet"
      },
      "execution_count": null,
      "outputs": []
    },
    {
      "cell_type": "markdown",
      "source": [
        "ctrl shift c 해야 개발자 도구 열림"
      ],
      "metadata": {
        "id": "joSP8ilsjykl"
      }
    },
    {
      "cell_type": "code",
      "source": [],
      "metadata": {
        "id": "4rlSTR6uiuai"
      },
      "execution_count": null,
      "outputs": []
    },
    {
      "cell_type": "code",
      "source": [
        "# 언제 기준으로 파일을 다운 받을 것인가?\n",
        "\n",
        "criteria_date = '2022-05-01'     ## <- 기준일\n",
        "\n",
        "# str -> datetime\n",
        "try:\n",
        "    criteria_date = datetime.strptime(criteria_date, '%Y-%m-%d').date()\n",
        "except ValueError as ve:\n",
        "    print('ValueError:', ve)"
      ],
      "metadata": {
        "id": "EaX8X2aZiGet"
      },
      "execution_count": null,
      "outputs": []
    },
    {
      "cell_type": "code",
      "source": [
        "# 탭: 개인/단체/방카\n",
        "# 탭 수\n",
        "TAB_num = len(driver.find_element(By.XPATH,'/html/body/div[2]/div[3]/div[2]/div[2]/div/form/div[3]/div[1]/dl/dd[1]/ul').find_elements(By.TAG_NAME,'li'))\n",
        "\n",
        "# 탭별 XPATH 경로\n",
        "product_TAB_PATH = []\n",
        "for i in range(1,TAB_num+1):\n",
        "    tmp_PATH = '/html/body/div[2]/div[3]/div[2]/div[2]/div/form/div[3]/div[1]/dl/dd[1]/ul/li['+str(i)+']/a'\n",
        "    product_TAB_PATH.append(tmp_PATH)\n",
        "\n",
        "product_TAB_PATH"
      ],
      "metadata": {
        "id": "e_p5k_pXiGeu"
      },
      "execution_count": null,
      "outputs": []
    },
    {
      "cell_type": "code",
      "source": [],
      "metadata": {
        "id": "_2WuZ8lztIzf"
      },
      "execution_count": null,
      "outputs": []
    },
    {
      "cell_type": "code",
      "source": [
        "# 탭을 클릭해야 그 탭에 해당하는 상품 리스트들이 나옴\n",
        "# 그 상품들의 리스트와 경로\n",
        "\n",
        "# product list & PATH \n",
        "def TAB_product_PATH():\n",
        "    product_num = len(driver.find_element(By.XPATH,'/html/body/div[2]/div[3]/div[2]/div[2]/div/form/div[3]/div[2]/dl/dd/ul').find_elements(By.TAG_NAME,'li'))\n",
        "    product_PATH = []\n",
        "    for i in range(1,product_num+1):\n",
        "        PATH = '/html/body/div[2]/div[3]/div[2]/div[2]/div/form/div[3]/div[2]/dl/dd/ul/li['+str(i)+']/a'\n",
        "        product_PATH.append(PATH)\n",
        "    return product_PATH\n",
        "\n",
        "# product_PATH"
      ],
      "metadata": {
        "id": "K-iSm7vhfkPZ"
      },
      "execution_count": null,
      "outputs": []
    },
    {
      "cell_type": "code",
      "source": [
        "# 상품마다 다운받을지 말지 결정\n",
        "# 해당 함수는 판매기간의 시작일로 criteria_date보다 최신인지 아닌지 확인\n",
        "\n",
        "def download_check(i):\n",
        "    sales_date = driver.find_element(By.XPATH,('/html/body/div[2]/div[3]/div[2]/div[2]/div/form/div[3]/div[3]/dl/dd/div/table/tbody/tr[1]/td[1]')).text.split('~')[0]\n",
        "    sales_date = datetime.strptime(sales_date, '%Y.%m.%d ').date()\n",
        "\n",
        "    date_check = criteria_date <= sales_date  # 날짜 보고 원하는거보다 최신인지 체크\n",
        "    \n",
        "    return date_check"
      ],
      "metadata": {
        "id": "XfdQcxlIiGeu"
      },
      "execution_count": null,
      "outputs": []
    },
    {
      "cell_type": "code",
      "source": [
        "# 크롤링하는 함수\n",
        "\n",
        "# 흥국생명의 페이지는 각 상품을 클릭해야 해당상품의 테이블이 나오기 때문에 일일히 클릭하는 수고가 필요\n",
        "# 상품 클릭 후 대기(크롤링 드라이버가 상품에 접속하는 시간 필요)\n",
        "# 상품 다운유무를 파악 & 상품명을 file_name으로 받기\n",
        "# 상품 다운유무가 True면 상품을 다운받고, False면 다운 받지 않음\n",
        "# 상품 다운유무가 True일 때, 상품요약서의 경로에 접근해 클릭하는데, 이때 에러창이 뜬다면 확인 버튼을 누르는 것이 Try, Except고\n",
        "# 파일 다운받는 시간도 기다려야 함 & 동시에 다운받아지는 파일 명이 -거나 -- 기 때문에 파일명을 바꿔주는 작업이 필요\n",
        "\n",
        "def crawling_page():\n",
        "    print('TAB의 product 개수:', len(product_PATH))\n",
        "    for i in range(1,len(product_PATH)+1):\n",
        "        driver.find_element(By.XPATH,product_PATH[i-1]).send_keys(Keys.ENTER)\n",
        "        time.sleep(3)\n",
        "        file_name = driver.find_element(By.XPATH,'/html/body/div[2]/div[3]/div[2]/div[2]/div/form/div[3]/div[3]/dl/dd/p/span').text\n",
        "        check = download_check(i)\n",
        "        print(i,'번째 파일  ','date check: ',check)\n",
        "        if check==True:\n",
        "            print('   ',i,'번째 다운 시작')\n",
        "            print('    다운받는 파일명:',file_name, '시간: ', datetime.now())\n",
        "            driver.find_element(By.XPATH,'/html/body/div[2]/div[3]/div[2]/div[2]/div/form/div[3]/div[3]/dl/dd/div/table/tbody/tr[1]/td[5]/a').click()#send_keys(Keys.ENTER)  # 상품요약서의 XPATH 값임\n",
        "            try:\n",
        "                WebDriverWait(driver, 3).until(EC.alert_is_present(),'Timed out waiting for PA creation ' +'confirmation popup to appear.')\n",
        "                alert = driver.switch_to.alert\n",
        "                alert.accept()\n",
        "                print(\"      ** 상품 요약서 없음. alert accepted\")\n",
        "            except TimeoutException:\n",
        "                print(\"    no alert 넘겨넘겨\")\n",
        "                time.sleep(20)\n",
        "                new_file = max([crawling_PATH+'/'+list(insu_dict.keys())[COMPANY_INDEX]+\n",
        "                                '/'+ f for f in os.listdir(crawling_PATH+'/'+list(insu_dict.keys())[COMPANY_INDEX]+'/') ],\n",
        "                                key=os.path.getctime) # 가장 최신 다운받은 파일 확인\n",
        "                while new_file.split(',')[-1]=='crdownload':\n",
        "                    time.sleep(10)\n",
        "                    new_file = max([crawling_PATH+'/'+list(insu_dict.keys())[COMPANY_INDEX]+\n",
        "                                '/'+ f for f in os.listdir(crawling_PATH+'/'+list(insu_dict.keys())[COMPANY_INDEX]+'/') ],\n",
        "                                key=os.path.getctime)\n",
        "                print('    다운받은 파일명: ', new_file, '시간: ', datetime.now())\n",
        "                shutil.move(new_file, os.path.join(crawling_PATH+'/'+list(insu_dict.keys())[COMPANY_INDEX]+'/'+file_name))  # 파일명 바꾸기\n",
        "            time.sleep(10)\n",
        "            print('   ',i,'번째 다운 완료')\n",
        "        elif check==False:\n",
        "            print('   ',i,'번째는 날짜가 최신이 아님')\n",
        "        # time.sleep(5)\n",
        "    print('')"
      ],
      "metadata": {
        "id": "21IZw7f0iGeu"
      },
      "execution_count": null,
      "outputs": []
    },
    {
      "cell_type": "code",
      "source": [
        "# 각 탭별 접근하면서 크롤링 Start\n",
        "\n",
        "driver.implicitly_wait(15)\n",
        "for TAB_PAGE in product_TAB_PATH:\n",
        "    print('클릭 전')\n",
        "    print('클릭할 탭: ', TAB_PAGE)\n",
        "    driver.find_element(By.XPATH,TAB_PAGE).send_keys(Keys.ENTER)\n",
        "    time.sleep(15)\n",
        "    print('탭 클릭 후 대기')\n",
        "    # time.sleep(10)\n",
        "    product_PATH = TAB_product_PATH() # 각 탭의 제품 list\n",
        "    #print(len(product_PATH))\n",
        "    crawling_page()\n",
        "    print('')\n",
        "print(\"흥국생명 끝!!!\")"
      ],
      "metadata": {
        "id": "ksj_Kbq-iGev"
      },
      "execution_count": null,
      "outputs": []
    },
    {
      "cell_type": "markdown",
      "source": [
        "# KDB생명"
      ],
      "metadata": {
        "id": "j1YUZEJw_0wL"
      }
    },
    {
      "cell_type": "code",
      "source": [
        "COMPANY_INDEX = 5  # 회사 바뀔 때 마다 바꿔주기"
      ],
      "metadata": {
        "id": "CVWE7pV_JeB7"
      },
      "execution_count": null,
      "outputs": []
    },
    {
      "cell_type": "code",
      "source": [
        "# 다운 폴더 경로 변경\n",
        "options.add_experimental_option('prefs', {\n",
        "        'download.default_directory': crawling_PATH+'/'+list(insu_dict.keys())[COMPANY_INDEX],   # 회사 바뀌면 경로도 바꿔서 다운받기\n",
        "        'download.prompt_for_download': False,\n",
        "    })\n",
        "driver = webdriver.Chrome('chromedriver', options=options)"
      ],
      "metadata": {
        "id": "BTl-mt3T_2Bi"
      },
      "execution_count": null,
      "outputs": []
    },
    {
      "cell_type": "code",
      "source": [
        "list(insu_dict.values())[COMPANY_INDEX]"
      ],
      "metadata": {
        "id": "AkDP97NAAS97"
      },
      "execution_count": null,
      "outputs": []
    },
    {
      "cell_type": "code",
      "source": [
        "#해당 url로 이동\n",
        "url = list(insu_dict.values())[COMPANY_INDEX]  # 흥국화재 url\n",
        "driver.get(url)"
      ],
      "metadata": {
        "id": "STB_4o8nAPwK"
      },
      "execution_count": null,
      "outputs": []
    },
    {
      "cell_type": "code",
      "source": [
        "# 언제 기준으로 파일을 다운 받을 것인가?\n",
        "\n",
        "criteria_date = '2022-05-01'     ## <- 기준일\n",
        "\n",
        "# str -> datetime\n",
        "try:\n",
        "    criteria_date = datetime.strptime(criteria_date, '%Y-%m-%d').date()\n",
        "except ValueError as ve:\n",
        "    print('ValueError:', ve)"
      ],
      "metadata": {
        "id": "Sk-Kq89lAyuh"
      },
      "execution_count": null,
      "outputs": []
    },
    {
      "cell_type": "code",
      "source": [
        "# 탭 수\n",
        "TAB_num = len(driver.find_element(By.XPATH,'/html/body/div[2]/div[2]/div/div/div[2]/div/div/ul').find_elements(By.TAG_NAME,'li'))\n",
        "\n",
        "# 탭별 XPATH 경로\n",
        "product_TAB_PATH = []\n",
        "for i in range(1,TAB_num):  # 원래는 TAB_num+1 이어야 하는데 KDB의 마지막 탭은 상품요약서 자체가 없음\n",
        "    tmp_PATH = '/html/body/div[2]/div[2]/div/div/div[2]/div/div/ul/li['+str(i)+']/a'\n",
        "    product_TAB_PATH.append(tmp_PATH)\n",
        "\n"
      ],
      "metadata": {
        "id": "DjEcJSxt2y-R"
      },
      "execution_count": null,
      "outputs": []
    },
    {
      "cell_type": "code",
      "source": [
        "TAB_table_PATH = [\n",
        "'//*[@id=\"tab-panel2\"]/div/div/table',\n",
        "'//*[@id=\"tab-panel9\"]/div/div/table',\n",
        "'//*[@id=\"tab-panel3\"]/div/div/table',\n",
        "'//*[@id=\"tab-panel4\"]/div/div/table']"
      ],
      "metadata": {
        "id": "Us06N6jeEJDt"
      },
      "execution_count": null,
      "outputs": []
    },
    {
      "cell_type": "code",
      "source": [
        "def download_check(i):\n",
        "    # tr별 td 수\n",
        "    tr_tdnum = len(driver.find_element(By.XPATH,TAB_table_PATH[k]+'/tbody/tr['+str(i)+']').find_elements(By.TAG_NAME,\"td\"))\n",
        "    # print(tr_tdnum)\n",
        "\n",
        "    if tr_tdnum == 7:\n",
        "        sales_date = driver.find_element(By.XPATH,(TAB_table_PATH[k]+'/tbody/tr['+str(i)+']/td[4]')).text.split('~')[0]\n",
        "        sales_date = datetime.strptime(sales_date, '%Y.%m.%d').date()\n",
        "        type_check = driver.find_element(By.XPATH,(TAB_table_PATH[k]+'/tbody/tr['+str(i)+']/td[7]')).text == '요약서'\n",
        "\n",
        "    elif tr_tdnum == 6:\n",
        "        sales_date = driver.find_element(By.XPATH,(TAB_table_PATH[k]+'/tbody/tr['+str(i)+']/td[3]')).text.split('~')[0]\n",
        "        sales_date = datetime.strptime(sales_date, '%Y.%m.%d').date()\n",
        "        type_check = driver.find_element(By.XPATH,(TAB_table_PATH[k]+'/tbody/tr['+str(i)+']/td[6]')).text == '요약서'\n",
        "\n",
        "    # print(sales_date)\n",
        "    \n",
        "    date_check = criteria_date <= sales_date  # 날짜 보고 원하는거보다 최신인지 체크\n",
        "    \n",
        "    # type_check = driver.find_element(By.XPATH,('/html/body/div[2]/div[2]/div/div/div[2]/div/div/div[1]/div/div/table/tbody/tr['+str(i)+']/td[7]')).text == '요약서'  \n",
        "    \n",
        "    # print(i,'번째 행은 제도성 특약 행이 아니다: ', type_check) \n",
        "\n",
        "    return date_check, type_check"
      ],
      "metadata": {
        "id": "YFOuUgCWBEqo"
      },
      "execution_count": null,
      "outputs": []
    },
    {
      "cell_type": "code",
      "source": [
        "def crawling_page(k):\n",
        "    # table\n",
        "    table = driver.find_element(By.XPATH, TAB_table_PATH[k])\n",
        "    \n",
        "    # thead\n",
        "    thead = table.find_element(By.TAG_NAME,\"thead\")\n",
        "    # tbody\n",
        "    tbody = table.find_element(By.TAG_NAME,\"tbody\")\n",
        "    # thead 수\n",
        "    thead_num = len(thead.text.split(' '))\n",
        "    #row 수\n",
        "    row = tbody.find_elements(By.TAG_NAME,'tr')\n",
        "    print('row 수: ', len(row))\n",
        "\n",
        "    #print(TAB_table_PATH[k])\n",
        "    for i in range(1,len(row)+1):\n",
        "       # print(k)\n",
        "        #print(TAB_table_PATH[k])\n",
        "        tr_tdnum = len(driver.find_element(By.XPATH, TAB_table_PATH[k]+\"/tbody/tr[\"+str(i)+\"]\").find_elements(By.TAG_NAME,\"td\"))\n",
        "        \n",
        "        check = download_check(i)\n",
        "        print(i,'번째 파일  ','date check: ',check[0], 'type check: ',check[1])\n",
        "        if check[0]==True:\n",
        "            if check[1]==True:\n",
        "                if tr_tdnum==7:\n",
        "                    file_name = driver.find_element(By.XPATH,TAB_table_PATH[k]+'/tbody/tr['+str(i)+']/td[2]').text\n",
        "                    print('   ',i,'번째 다운 시작')\n",
        "                    print('    다운받는 파일명:',file_name, '시간: ', datetime.now())\n",
        "                    driver.find_element(By.XPATH,TAB_table_PATH[k]+\"/tbody/tr[\"+str(i)+\"]/td[7]/a\").send_keys(Keys.ENTER)  # 상품요약서의 XPATH 값임\n",
        "                    try:\n",
        "                        WebDriverWait(driver, 3).until(EC.alert_is_present(),'Timed out waiting for PA creation ' +'confirmation popup to appear.')\n",
        "                        alert = driver.switch_to.alert\n",
        "                        alert.accept()\n",
        "                        print(\"      ** 상품 요약서 없음. alert accepted\")\n",
        "                    except TimeoutException:\n",
        "                        print(\"    no alert 넘겨넘겨\")\n",
        "                        time.sleep(20)\n",
        "                        new_file = max([crawling_PATH+'/'+list(insu_dict.keys())[COMPANY_INDEX]+\n",
        "                                        '/'+ f for f in os.listdir(crawling_PATH+'/'+list(insu_dict.keys())[COMPANY_INDEX]+'/') ],\n",
        "                                        key=os.path.getctime) # 가장 최신 다운받은 파일 확인\n",
        "                        while new_file.split(',')[-1]=='crdownload':\n",
        "                            time.sleep(10)\n",
        "                            new_file = max([crawling_PATH+'/'+list(insu_dict.keys())[COMPANY_INDEX]+\n",
        "                                        '/'+ f for f in os.listdir(crawling_PATH+'/'+list(insu_dict.keys())[COMPANY_INDEX]+'/') ],\n",
        "                                        key=os.path.getctime)\n",
        "                        print('    다운받은 파일명: ', new_file, '시간: ', datetime.now())\n",
        "                        shutil.move(new_file, os.path.join(crawling_PATH+'/'+list(insu_dict.keys())[COMPANY_INDEX]+'/'+file_name))  # 파일명 바꾸기\n",
        "                    time.sleep(3)\n",
        "                    print('   ',i,'번째 다운 완료')\n",
        "                elif tr_tdnum==6:\n",
        "                    file_name = driver.find_element(By.XPATH,TAB_table_PATH[k]+'/tbody/tr['+str(i)+']/td[1]').text\n",
        "                    print('   ',i,'번째 다운 시작')\n",
        "                    print('    다운받는 파일명:',file_name, '시간: ', datetime.now())\n",
        "                    driver.find_element(By.XPATH,TAB_table_PATH[k]+\"/tbody/tr[\"+str(i)+\"]/td[6]/a\").send_keys(Keys.ENTER)  # 상품요약서의 XPATH 값임\n",
        "                    try:\n",
        "                        WebDriverWait(driver, 3).until(EC.alert_is_present(),'Timed out waiting for PA creation ' +'confirmation popup to appear.')\n",
        "                        alert = driver.switch_to.alert\n",
        "                        alert.accept()\n",
        "                        print(\"      ** 상품 요약서 없음. alert accepted\")\n",
        "                    except TimeoutException:\n",
        "                        print(\"    no alert 넘겨넘겨\")\n",
        "                        time.sleep(20)\n",
        "                        new_file = max([crawling_PATH+'/'+list(insu_dict.keys())[COMPANY_INDEX]+\n",
        "                                        '/'+ f for f in os.listdir(crawling_PATH+'/'+list(insu_dict.keys())[COMPANY_INDEX]+'/') ],\n",
        "                                        key=os.path.getctime) # 가장 최신 다운받은 파일 확인\n",
        "                        while new_file.split(',')[-1]=='crdownload':\n",
        "                            time.sleep(10)\n",
        "                            new_file = max([crawling_PATH+'/'+list(insu_dict.keys())[COMPANY_INDEX]+\n",
        "                                        '/'+ f for f in os.listdir(crawling_PATH+'/'+list(insu_dict.keys())[COMPANY_INDEX]+'/') ],\n",
        "                                        key=os.path.getctime)\n",
        "                        print('    다운받은 파일명: ', new_file, '시간: ', datetime.now())\n",
        "                        shutil.move(new_file, os.path.join(crawling_PATH+'/'+list(insu_dict.keys())[COMPANY_INDEX]+'/'+file_name))  # 파일명 바꾸기\n",
        "                    time.sleep(3)\n",
        "                    print('   ',i,'번째 다운 완료')\n",
        "            elif check[1]==False:\n",
        "                print('   ',i,'번째행은 상품요약서가 없음')\n",
        "        elif check[0]==False:\n",
        "            print('   ',i,'번째는 날짜가 최신이 아님')\n",
        "        time.sleep(5) # row 넘어가는거 기다리기\n",
        "    time.sleep(10)\n",
        "    print('')"
      ],
      "metadata": {
        "id": "UQ_Cj0AcXARS"
      },
      "execution_count": null,
      "outputs": []
    },
    {
      "cell_type": "code",
      "source": [
        "k=0\n",
        "driver.implicitly_wait(15)\n",
        "for TAB_PAGE in product_TAB_PATH:\n",
        "    print('클릭 전')\n",
        "    print('클릭할 탭: ', TAB_PAGE)\n",
        "    driver.find_element(By.XPATH,TAB_PAGE).send_keys(Keys.ENTER)\n",
        "    print('탭 클릭 후 대기')\n",
        "    time.sleep(10)\n",
        "    # table = driver.find_element(By.XPATH, TAB_table_PATH[k])\n",
        "    print('클릭 후 시작')\n",
        "    \n",
        "    # print(\"TABLE PATH: \", TAB_table_PATH[k])\n",
        "    crawling_page(k)\n",
        "    k=k+1\n",
        "\n",
        "print(\"KDB 끝!!!\")"
      ],
      "metadata": {
        "id": "tsflz0jX5Z0N"
      },
      "execution_count": null,
      "outputs": []
    },
    {
      "cell_type": "markdown",
      "source": [
        "# 동양생명"
      ],
      "metadata": {
        "id": "36_V6Xsn3qtl"
      }
    },
    {
      "cell_type": "code",
      "source": [
        "COMPANY_INDEX = 6"
      ],
      "metadata": {
        "id": "pwpaF-gqG_xL"
      },
      "execution_count": null,
      "outputs": []
    },
    {
      "cell_type": "code",
      "source": [
        "# 다운 폴더 경로 변경\n",
        "options.add_experimental_option('prefs', {\n",
        "        'download.default_directory': crawling_PATH+'/'+list(insu_dict.keys())[COMPANY_INDEX],   # 회사 바뀌면 경로도 바꿔서 다운받기\n",
        "        'download.prompt_for_download': False,\n",
        "    })\n",
        "driver = webdriver.Chrome('chromedriver', options=options)"
      ],
      "metadata": {
        "id": "SuvNy1ug3qtw"
      },
      "execution_count": null,
      "outputs": []
    },
    {
      "cell_type": "code",
      "source": [
        "list(insu_dict.values())[COMPANY_INDEX]"
      ],
      "metadata": {
        "id": "klYro7GA3qtx"
      },
      "execution_count": null,
      "outputs": []
    },
    {
      "cell_type": "code",
      "source": [
        "#해당 url로 이동\n",
        "url = list(insu_dict.values())[COMPANY_INDEX]  # 흥국화재 url\n",
        "driver.get(url)"
      ],
      "metadata": {
        "id": "BJzXAvOkOXbR"
      },
      "execution_count": null,
      "outputs": []
    },
    {
      "cell_type": "code",
      "source": [
        "# 언제 기준으로 파일을 다운 받을 것인가?\n",
        "\n",
        "criteria_date = '2022-05-01'     ## <- 기준일\n",
        "\n",
        "# str -> datetime\n",
        "try:\n",
        "    criteria_date = datetime.strptime(criteria_date, '%Y-%m-%d').date()\n",
        "except ValueError as ve:\n",
        "    print('ValueError:', ve)"
      ],
      "metadata": {
        "id": "lO_Mhn153qtx"
      },
      "execution_count": null,
      "outputs": []
    },
    {
      "cell_type": "code",
      "source": [
        "def download_check(i):\n",
        "    sales_date = driver.find_element(By.XPATH,('/html/body/div[5]/div/form[4]/div/div[2]/table/tbody/tr['+str(i)+']/td[5]')).text.split('\\n')[1]\n",
        "    sales_date = datetime.strptime(sales_date, '%Y.%m.%d').date()\n",
        "\n",
        "    date_check = criteria_date <= sales_date  # 날짜 보고 원하는거보다 최신인지 체크\n",
        "    \n",
        "    type_check = driver.find_element(By.XPATH,('/html/body/div[5]/div/form[4]/div/div[2]/table/tbody/tr['+str(i)+']/td[3]')).text != '제도성특약'\n",
        "    \n",
        "    # print(i,'번째 행은 제도성 특약 행이 아니다: ', type_check) \n",
        "\n",
        "    return date_check, type_check"
      ],
      "metadata": {
        "id": "cSYe5oHq3qty"
      },
      "execution_count": null,
      "outputs": []
    },
    {
      "cell_type": "code",
      "source": [
        "def page_crawling(x):\n",
        "    print(x,'번째 페이지 시작=========')\n",
        "    \n",
        "    table = driver.find_element(By.XPATH,'/html/body/div[5]/div/form[4]/div/div[2]/table')  # table XPATH 기업마다 바꾸기\n",
        "    # thead\n",
        "    thead = table.find_element(By.TAG_NAME,\"thead\")\n",
        "    # tbody\n",
        "    tbody = table.find_element(By.TAG_NAME,\"tbody\")\n",
        "    # row 수\n",
        "    row = tbody.find_elements(By.TAG_NAME,'tr')\n",
        "    print('row 수: ', len(row))\n",
        "\n",
        "    for i in range(1,len(row)+1):\n",
        "        check = download_check(i)\n",
        "        \n",
        "        print(i,'번째 파일  ','date check: ',check[0], 'type check: ',check[1])\n",
        "        if check[0]==True:\n",
        "            if check[1]==True:\n",
        "                print('   ',i,'번째 다운 시작')\n",
        "                file_name = driver.find_element(By.XPATH,'/html/body/div[5]/div/form[4]/div/div[2]/table/tbody/tr['+str(i)+']/td[4]').text\n",
        "                print('    다운받는 파일명:',file_name, '시간: ', datetime.now())\n",
        "                driver.find_element(By.XPATH,'/html/body/div[5]/div/form[4]/div/div[2]/table/tbody/tr['+str(i)+']/td[6]/a/img').click()  # 상품요약서의 XPATH 값임\n",
        "                \n",
        "                try:\n",
        "                    WebDriverWait(driver, 3).until(EC.alert_is_present(),\n",
        "                                                'Timed out waiting for PA creation ' +\n",
        "                                                'confirmation popup to appear.')\n",
        "\n",
        "                    alert = driver.switch_to.alert\n",
        "                    alert.accept()\n",
        "                    print(\"      **상품 요약서 없음. alert accepted\")\n",
        "                except TimeoutException:\n",
        "                    print(\"    no alert 넘겨넘겨\")\n",
        "                    time.sleep(20)\n",
        "                    new_file = max([crawling_PATH+'/'+list(insu_dict.keys())[COMPANY_INDEX]+\n",
        "                                    '/'+ f for f in os.listdir(crawling_PATH+'/'+list(insu_dict.keys())[COMPANY_INDEX]+'/') ],\n",
        "                                    key=os.path.getctime) # 가장 최신 다운받은 파일 확인\n",
        "                    while new_file.split(',')[-1]=='crdownload':\n",
        "                        time.sleep(10)\n",
        "                        new_file = max([crawling_PATH+'/'+list(insu_dict.keys())[COMPANY_INDEX]+\n",
        "                                    '/'+ f for f in os.listdir(crawling_PATH+'/'+list(insu_dict.keys())[COMPANY_INDEX]+'/') ],\n",
        "                                    key=os.path.getctime)\n",
        "                    print('    다운받은 파일명: ', new_file, '시간: ', datetime.now())\n",
        "                    shutil.move(new_file, os.path.join(crawling_PATH+'/'+list(insu_dict.keys())[COMPANY_INDEX]+'/'+file_name))  # 파일명 바꾸기\n",
        "                time.sleep(10)\n",
        "                print('      ',i,'번째 다운 완료')\n",
        "                #time.sleep(30)\n",
        "            elif check[1]==False:\n",
        "                print('   ',i,'번째행은 상품요약서가 없음')\n",
        "        elif check[0]==False:\n",
        "            print('   ',i,'번째는 다운 안받음')"
      ],
      "metadata": {
        "id": "3cJ2xUP13qty"
      },
      "execution_count": null,
      "outputs": []
    },
    {
      "cell_type": "code",
      "source": [
        "#driver.find_element(By.XPATH,'/html/body/div[5]/div/form[4]/div/div[2]/div[2]/ul/li[3]/a').click()\n",
        "\n",
        "# breaker = False\n",
        "page_num = len(driver.find_element(By.XPATH,'/html/body/div[5]/div/form[4]/div/div[2]/div[2]/ul').find_elements(By.TAG_NAME,'li'))-4\n",
        "print('page 수: ', page_num)\n",
        "\n",
        "driver.implicitly_wait(10)\n",
        "for j in range(1,page_num+1): # page_num-1 만큼 클릭해서 넘어가는 것임\n",
        "    page_crawling(j)\n",
        "    #time.sleep(10)\n",
        "    tmp_index = j+3\n",
        "    if tmp_index== 10:\n",
        "        break\n",
        "    driver.find_element(By.XPATH,'/html/body/div[5]/div/form[4]/div/div[2]/div[2]/ul/li['+str(tmp_index)+']/a').click()  # 페이지 넘기기\n",
        "    print('페이지 넘기기 클릭함')\n",
        "    #time.sleep(10)\n",
        "    print('')\n",
        "\n",
        "#page_crawling(page_num)\n",
        "print(\"동양 끝!!!\")"
      ],
      "metadata": {
        "id": "nDgmuqseNoxC"
      },
      "execution_count": null,
      "outputs": []
    },
    {
      "cell_type": "markdown",
      "source": [
        "https://blkcoding.blogspot.com/2018/03/selenium.html"
      ],
      "metadata": {
        "id": "OgULAGCo3qtz"
      }
    },
    {
      "cell_type": "code",
      "source": [],
      "metadata": {
        "id": "FB8_3lVU3qtz"
      },
      "execution_count": null,
      "outputs": []
    },
    {
      "cell_type": "markdown",
      "source": [
        "#흥국화재\n",
        "######일단 이렇게 하고 나중에 url은 모아서 리스트로 넘겨서 하면 될거같기도"
      ],
      "metadata": {
        "id": "J5niieyODl_u"
      }
    },
    {
      "cell_type": "code",
      "source": [
        "# 다운 폴더 경로 변경\n",
        "options.add_experimental_option('prefs', {\n",
        "        'download.default_directory': crawling_PATH+'/흥국화재',   # 회사 바뀌면 경로도 바꿔서 다운받기\n",
        "        'download.prompt_for_download': False,\n",
        "    })\n",
        "driver = webdriver.Chrome('chromedriver', options=options)"
      ],
      "metadata": {
        "id": "SVkZGOM8ebqI"
      },
      "execution_count": null,
      "outputs": []
    },
    {
      "cell_type": "code",
      "source": [
        "#해당 url로 이동\n",
        "url = \"https://www.heungkukfire.co.kr/FRW/announce/insGoodsGongsiSale.do#\"  # 흥국화재 url\n",
        "driver.get(url)"
      ],
      "metadata": {
        "id": "h4EM0dVVdXEg"
      },
      "execution_count": null,
      "outputs": []
    },
    {
      "cell_type": "code",
      "source": [
        "# 언제 기준으로 파일을 다운 받을 것인가?\n",
        "\n",
        "criteria_date = '2022-07-01'     ## <- 기준일\n",
        "\n",
        "# str -> datetime\n",
        "try:\n",
        "    criteria_date = datetime.strptime(criteria_date, '%Y-%m-%d').date()\n",
        "except ValueError as ve:\n",
        "    print('ValueError:', ve)"
      ],
      "metadata": {
        "id": "DFGHLDvgaNgF"
      },
      "execution_count": null,
      "outputs": []
    },
    {
      "cell_type": "code",
      "source": [
        "# 탭 수\n",
        "TAB_num = len(driver.find_element(By.XPATH,'/html/body/div[4]/div[5]/form/ul[2]').find_elements(By.TAG_NAME,'li'))\n",
        "\n",
        "# 탭별 XPATH 경로\n",
        "product_TAB_PATH = []\n",
        "for i in range(1,TAB_num+1):\n",
        "    tmp_PATH = '/html/body/div[4]/div[5]/form/ul[2]/li['+str(i)+']'\n",
        "    product_TAB_PATH.append(tmp_PATH)"
      ],
      "metadata": {
        "id": "_0Il1AxUsldW"
      },
      "execution_count": null,
      "outputs": []
    },
    {
      "cell_type": "markdown",
      "source": [
        "파일 다운 시 파일 명이 같을 때 파일명 다르게해서 받을지는 아직 정하지 않음\n",
        "\n",
        "채널명만 다를 뿐 상품요약서는 같다고 함"
      ],
      "metadata": {
        "id": "AuiI7y7MzwJq"
      }
    },
    {
      "cell_type": "code",
      "source": [
        "def download_check(i):\n",
        "    sales_date = driver.find_element(By.XPATH,('//*[@id=\"frm\"]/div[3]/table/tbody/tr['+str(i)+']/td[4]/span')).text\n",
        "    sales_date = datetime.strptime(sales_date, '%Y-%m-%d').date()\n",
        "\n",
        "    date_check = criteria_date <= sales_date  # 날짜 보고 원하는거보다 최신인지 체크\n",
        "    \n",
        "    files_num = len(driver.find_element(By.XPATH,('//*[@id=\"frm\"]/div[3]/table/tbody/tr['+str(i)+']/td[5]')).text.split('\\n'))  # 파일수 3개인지 체크 (3번째가 상품요약서임)\n",
        "\n",
        "    file_check = files_num==3\n",
        "    print(i,'번째 행의 파일 수: ',files_num) \n",
        "\n",
        "#    download_check = (date_check==True)&(files_num==3)  # 날짜, 파일수 보고 다운받을지 말지 체크\n",
        "\n",
        "    # print(date_check)\n",
        "    # print(files_num)\n",
        "    # print(download_check)\n",
        "    return date_check, file_check"
      ],
      "metadata": {
        "id": "71QJ_VQEqOAK"
      },
      "execution_count": null,
      "outputs": []
    },
    {
      "cell_type": "code",
      "source": [
        "def get_next_page():\n",
        "    index_num = len(driver.find_element(By.XPATH,'/html/body/div[4]/div[5]/form/div[4]/div').find_elements(By.TAG_NAME,'a'))-1\n",
        "    index_PATH = '/html/body/div[4]/div[5]/form/div[4]/div/a['+str(index_num)+']/img'\n",
        "    return index_PATH"
      ],
      "metadata": {
        "id": "mZXiVFtotUBb"
      },
      "execution_count": null,
      "outputs": []
    },
    {
      "cell_type": "code",
      "source": [
        "def crawling_page():\n",
        "    breaker = False\n",
        "    page_num = len(driver.find_element(By.XPATH,'/html/body/div[4]/div[5]/form/div[4]/div').text.split(' '))\n",
        "    # table\n",
        "    table = driver.find_element(By.XPATH,'/html/body/div[4]/div[5]/form/div[3]/table')\n",
        "    # thead\n",
        "    thead = table.find_element(By.TAG_NAME,\"thead\")\n",
        "    # tbody\n",
        "    tbody = table.find_element(By.TAG_NAME,\"tbody\")\n",
        "    # row 수\n",
        "    row = tbody.find_elements(By.TAG_NAME,'tr')\n",
        "    \n",
        "    print('page 수: ', page_num)\n",
        "    print('row 수: ', len(row))\n",
        "    #k=1\n",
        "    for j in range(1,page_num+1): # page_num-1 만큼 클릭해서 넘어가는 것임\n",
        "        print(j,'번째 페이지 시작=========')\n",
        "        #k=k+1\n",
        "        for i in range(1,len(row)+1):\n",
        "            check = download_check(i)\n",
        "            print(i,'번째 파일  ','date check: ',check[0], 'file_check: ',check[1])\n",
        "            if check[0]==True:\n",
        "                # print(1)\n",
        "                if check[1]==True:\n",
        "                    print('   ',i,'번째 다운 시작')\n",
        "                    driver.find_element(By.XPATH,'/html/body/div[4]/div[5]/form/div[3]/table/tbody/tr['+str(i)+']/td[5]/span[3]/a').click()  # 상품요약서의 XPATH 값임\n",
        "                    print('   ',i,'번째 다운 완료')\n",
        "                    time.sleep(3)\n",
        "                elif check[1]==False:\n",
        "                    print('   ',i,'번째는 다운 안받음')\n",
        "            elif check[0]==False:\n",
        "                # print(2)\n",
        "                # continue\n",
        "                breaker=True\n",
        "                print('이 페이지엔 더 다운 받을게 없음')\n",
        "                break\n",
        "        if breaker==True:\n",
        "            print('더이상 안봐도 됨')\n",
        "            break\n",
        "\n",
        "        index_PATH = get_next_page()\n",
        "        driver.find_element(By.XPATH,index_PATH).click()  # 페이지 넘기기\n",
        "        print('페이지 넘기기 클릭함')\n",
        "        time.sleep(3)\n",
        "        # print('')"
      ],
      "metadata": {
        "id": "CgI5rya6ukzq"
      },
      "execution_count": null,
      "outputs": []
    },
    {
      "cell_type": "code",
      "source": [
        "for TAB_PAGE in product_TAB_PATH:\n",
        "    print('클릭 전')\n",
        "    print('클릭할 탭: ', TAB_PAGE)\n",
        "    driver.find_element(By.XPATH,TAB_PAGE).click()\n",
        "    print('탭 클릭 후 대기')\n",
        "    time.sleep(10)\n",
        "    print('클릭 후 시작')\n",
        "        \n",
        "    crawling_page()\n",
        "    "
      ],
      "metadata": {
        "id": "TNd4gjZJQpUG"
      },
      "execution_count": null,
      "outputs": []
    },
    {
      "cell_type": "markdown",
      "source": [
        "이걸 하면 /Crawling/흥국화재 에 criteria_date 기준으로 최신 pdf들 다운"
      ],
      "metadata": {
        "id": "BRh4Ma3I2wZQ"
      }
    }
  ]
}